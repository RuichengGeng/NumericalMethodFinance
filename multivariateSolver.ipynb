{
 "cells": [
  {
   "cell_type": "code",
   "execution_count": 52,
   "metadata": {},
   "outputs": [],
   "source": [
    "import numpy as np\n",
    "import math"
   ]
  },
  {
   "cell_type": "code",
   "execution_count": 8,
   "metadata": {},
   "outputs": [],
   "source": [
    "def newton_solver(f,df,x,tol = 1e-6,max_loop = 1000,return_list = False):\n",
    "    root_trials = []\n",
    "    if abs(f(x)) <= tol:\n",
    "        return x\n",
    "    loop = 0\n",
    "    while abs(f(x))> tol and loop < max_loop:\n",
    "        if abs(df(x)) < tol:\n",
    "            print('The slope of function @ {} is 0'.format(x))\n",
    "            return None\n",
    "        x = x - float(f(x)/df(x))\n",
    "        root_trials.append(x)\n",
    "        loop += 1\n",
    "        print('{} trials, trial = {}'.format(loop,x))\n",
    "    \n",
    "    if loop >= max_loop:\n",
    "        print('No solution!')\n",
    "        return None\n",
    "    print('Get root after {} iterations'.format(loop))\n",
    "    if return_list:\n",
    "        return root_trials[-1],root_trials\n",
    "    else:\n",
    "        return root_trials[-1]"
   ]
  },
  {
   "cell_type": "code",
   "execution_count": 43,
   "metadata": {},
   "outputs": [],
   "source": [
    "def multivariate_newton_solver(F,J,X,tol = 1e-4,max_loop = 1000):\n",
    "    '''\n",
    "    F is the multivariate function\n",
    "    J is the Jacobian matrix of F\n",
    "    tol is the L2 norm tolerance of the solution\n",
    "    max_loop is max iteration \n",
    "    '''\n",
    "    FX = F(X)\n",
    "    FX_L2 = np.linalg.norm(FX,ord = 2)\n",
    "    if FX_L2 <= tol:\n",
    "        return X\n",
    "    loop = 0\n",
    "    while FX_L2 > tol and loop < max_loop:\n",
    "        print('{} trials, l2 norm = {}'.format(loop,FX_L2))\n",
    "        ## here we use the gaussian elimination linear solution instead of inverse matrix\n",
    "        ## delta = np.matmul(np.linalg.inv(J(X),-F(X))), as inverse matrix calculation is expensive\n",
    "        delta = np.linalg.solve(J(X),-F(X))\n",
    "        X = X + delta\n",
    "        FX = F(X)\n",
    "        FX_L2 = np.linalg.norm(FX,ord = 2)\n",
    "        loop += 1\n",
    "    \n",
    "    if FX_L2 > tol:\n",
    "        loop = -1\n",
    "        return None,loop\n",
    "    return X,loop"
   ]
  },
  {
   "cell_type": "markdown",
   "metadata": {},
   "source": [
    "# test on a linear system\n",
    "## In linear system, only need 1 iteration to get the result\n",
    "$3x + 4y = 6$  \n",
    "$7x + 2y = 3$"
   ]
  },
  {
   "cell_type": "code",
   "execution_count": 48,
   "metadata": {},
   "outputs": [
    {
     "name": "stdout",
     "output_type": "stream",
     "text": [
      "[0.  1.5]\n",
      "0 trials, l2 norm = 6.708203932499369\n",
      "[0.  1.5]\n"
     ]
    }
   ],
   "source": [
    "# test on a linear system\n",
    "# In linear system, only need 1 iteration to get the result\n",
    "res = np.linalg.solve(np.array([[3,4],[7,2]]),np.array([6,3]))\n",
    "print(res)\n",
    "F = lambda x:np.array([\n",
    "    3*x[0] + 4*x[1] - 6,\n",
    "    7*x[0] + 2*x[1] - 3\n",
    "])\n",
    "J = lambda x:np.array(\n",
    "    [[3,4],\n",
    "    [7,2]]\n",
    ")\n",
    "res,_ = multivariate_newton_solver(F,J,X = np.array([0,0]),tol = 1e-4,max_loop = 1000)\n",
    "print(res)"
   ]
  },
  {
   "cell_type": "markdown",
   "metadata": {},
   "source": [
    "# test on non-linear system\n",
    " $y = 3x + sin(x)^2$  \n",
    "$y^2 = cos(x)$"
   ]
  },
  {
   "cell_type": "code",
   "execution_count": 56,
   "metadata": {},
   "outputs": [
    {
     "name": "stdout",
     "output_type": "stream",
     "text": [
      "0 trials, l2 norm = 5.512725452778437\n",
      "1 trials, l2 norm = 0.8915121095833342\n",
      "2 trials, l2 norm = 0.1746300086916254\n",
      "3 trials, l2 norm = 0.021334590312296058\n",
      "4 trials, l2 norm = 0.0017962851480375216\n",
      "5 trials, l2 norm = 0.0001572893386637621\n"
     ]
    }
   ],
   "source": [
    "F = lambda x:np.array([\n",
    "    x[0] - 3*x[1] - math.sin(x[1])**2,\n",
    "    x[0]**2 - math.cos(x[1])\n",
    "])\n",
    "J = lambda x:np.array(\n",
    "    [[1,-3 - 2*math.sin(x[1]) * math.cos(x[1])],\n",
    "    [2*x[0],-math.sin(x[1])]]\n",
    ")\n",
    "res,_ = multivariate_newton_solver(F,J,X = np.array([2,-1]),tol = 1e-4,max_loop = 1000)"
   ]
  },
  {
   "cell_type": "code",
   "execution_count": null,
   "metadata": {},
   "outputs": [],
   "source": []
  },
  {
   "cell_type": "code",
   "execution_count": null,
   "metadata": {},
   "outputs": [],
   "source": []
  },
  {
   "cell_type": "code",
   "execution_count": null,
   "metadata": {},
   "outputs": [],
   "source": []
  },
  {
   "cell_type": "code",
   "execution_count": null,
   "metadata": {},
   "outputs": [],
   "source": []
  }
 ],
 "metadata": {
  "interpreter": {
   "hash": "85b8542346bf68cc760c86a1d200b0672ece6e2c51cd657345e0f5a7bc12e1f8"
  },
  "kernelspec": {
   "display_name": "Python 3.7.6 64-bit ('base': conda)",
   "name": "python3"
  },
  "language_info": {
   "codemirror_mode": {
    "name": "ipython",
    "version": 3
   },
   "file_extension": ".py",
   "mimetype": "text/x-python",
   "name": "python",
   "nbconvert_exporter": "python",
   "pygments_lexer": "ipython3",
   "version": "3.7.6"
  },
  "orig_nbformat": 4
 },
 "nbformat": 4,
 "nbformat_minor": 2
}
