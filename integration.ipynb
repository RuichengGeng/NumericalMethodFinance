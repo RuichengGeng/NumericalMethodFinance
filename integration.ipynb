{
 "cells": [
  {
   "cell_type": "code",
   "execution_count": 16,
   "metadata": {},
   "outputs": [],
   "source": [
    "import numpy as np\n",
    "import time"
   ]
  },
  {
   "cell_type": "code",
   "execution_count": 22,
   "metadata": {},
   "outputs": [],
   "source": [
    "def rectangle_integration(f,a,b,n):\n",
    "    '''f is the function, a/b is the lower/higher bound of integration interval. n is the number of small intervals'''\n",
    "    h = float(b - a) / n\n",
    "    ## use the mid point of the interval as the hight of the rectangle\n",
    "    x_array = np.arange(a + h/2,b,h)\n",
    "    fx_values = f(x_array)\n",
    "    result = np.sum(fx_values) * h\n",
    "    return result"
   ]
  },
  {
   "cell_type": "code",
   "execution_count": 40,
   "metadata": {},
   "outputs": [],
   "source": [
    "def trapezoidal_intergration(f,a,b,n):\n",
    "    h = float(b - a) / n\n",
    "    #when using np.linspace(a,b,n), n mean both a and b inclusive, so the interval is (b-a)/(n-1)\n",
    "    x_array = np.linspace(a,b,n+1)\n",
    "    fx_values = f(x_array)\n",
    "    fx_values[0] = fx_values[0] / 2\n",
    "    fx_values[-1] = fx_values[-1] / 2\n",
    "    return np.sum(fx_values) * h\n",
    "    "
   ]
  },
  {
   "cell_type": "code",
   "execution_count": 41,
   "metadata": {},
   "outputs": [],
   "source": [
    "f = lambda x:x\n",
    "r1 = rectangle_integration(f,0,1,100)\n",
    "r2 = trapezoidal_intergration(f,0,1,100)\n"
   ]
  },
  {
   "cell_type": "markdown",
   "metadata": {},
   "source": [
    "# Convergence Analysis\n",
    "We suppose error = C * n^r <br>\n",
    "where C is the constant and n is the number of intervals, r is the convergence rate"
   ]
  },
  {
   "cell_type": "code",
   "execution_count": 51,
   "metadata": {},
   "outputs": [],
   "source": [
    "def adaptive_integration(f,a,b,eps = 1e-6,method = 'trapezoidal'):\n",
    "    '''\n",
    "    f is the integration function, a/b is the integration lower/upper boundary\n",
    "    eps is the error tolerance\n",
    "    method = rectangle or trapezoidal\n",
    "    '''\n",
    "    INTERVAL_MULT = 10\n",
    "    n = 10\n",
    "    n_array = []\n",
    "    result_array = []\n",
    "    condition = True\n",
    "    iter = 0\n",
    "    while condition:\n",
    "        if method == \"rectangle\":\n",
    "            result = rectangle_integration(f,a,b,n)\n",
    "        elif method == \"trapezoidal\":\n",
    "            result = trapezoidal_intergration(f,a,b,n)\n",
    "        else:\n",
    "            raise(\"Integration method : {} not allowed\".format(method))\n",
    "        n_array.append(n)\n",
    "        result_array.append(result)\n",
    "        iter += 1\n",
    "        if len(result_array) >= 2:\n",
    "            # if the condition is not satisified, continue iteration\n",
    "            condition = ~ (abs(result_array[-1] - result_array[-2]) <= eps)\n",
    "            n *= INTERVAL_MULT\n",
    "    return result_array[-1],abs(result_array[-1] - result_array[-2])"
   ]
  },
  {
   "cell_type": "code",
   "execution_count": 52,
   "metadata": {},
   "outputs": [
    {
     "data": {
      "text/plain": [
       "(0.5000000000000001, 0.0)"
      ]
     },
     "execution_count": 52,
     "metadata": {},
     "output_type": "execute_result"
    }
   ],
   "source": [
    "f = lambda x:x\n",
    "adaptive_integration(f,0,1)"
   ]
  }
 ],
 "metadata": {
  "interpreter": {
   "hash": "85b8542346bf68cc760c86a1d200b0672ece6e2c51cd657345e0f5a7bc12e1f8"
  },
  "kernelspec": {
   "display_name": "Python 3.7.6 64-bit ('base': conda)",
   "name": "python3"
  },
  "language_info": {
   "codemirror_mode": {
    "name": "ipython",
    "version": 3
   },
   "file_extension": ".py",
   "mimetype": "text/x-python",
   "name": "python",
   "nbconvert_exporter": "python",
   "pygments_lexer": "ipython3",
   "version": "3.7.6"
  },
  "orig_nbformat": 4
 },
 "nbformat": 4,
 "nbformat_minor": 2
}
