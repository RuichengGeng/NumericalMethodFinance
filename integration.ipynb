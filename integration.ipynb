{
 "cells": [
  {
   "cell_type": "code",
   "execution_count": 16,
   "metadata": {},
   "outputs": [],
   "source": [
    "import numpy as np\n",
    "import time"
   ]
  },
  {
   "cell_type": "code",
   "execution_count": 22,
   "metadata": {},
   "outputs": [],
   "source": [
    "def rectangle_integration(f,a,b,n):\n",
    "    '''f is the function, a/b is the lower/higher bound of integration interval. n is the number of small intervals'''\n",
    "    h = float(b - a) / n\n",
    "    ## use the mid point of the interval as the hight of the rectangle\n",
    "    x_array = np.arange(a + h/2,b,h)\n",
    "    fx_values = f(x_array)\n",
    "    result = np.sum(fx_values) * h\n",
    "    return result"
   ]
  },
  {
   "cell_type": "code",
   "execution_count": 40,
   "metadata": {},
   "outputs": [],
   "source": [
    "def trapezoidal_intergration(f,a,b,n):\n",
    "    h = float(b - a) / n\n",
    "    #when using np.linspace(a,b,n), n mean both a and b inclusive, so the interval is (b-a)/(n-1)\n",
    "    x_array = np.linspace(a,b,n+1)\n",
    "    fx_values = f(x_array)\n",
    "    fx_values[0] = fx_values[0] / 2\n",
    "    fx_values[-1] = fx_values[-1] / 2\n",
    "    return np.sum(fx_values) * h\n",
    "    "
   ]
  },
  {
   "cell_type": "code",
   "execution_count": 41,
   "metadata": {},
   "outputs": [],
   "source": [
    "f = lambda x:x\n",
    "r1 = rectangle_integration(f,0,1,100)\n",
    "r2 = trapezoidal_intergration(f,0,1,100)\n"
   ]
  },
  {
   "cell_type": "markdown",
   "metadata": {},
   "source": [
    "# Convergence Analysis\n",
    "We suppose error = C * n^r <br>\n",
    "where C is the constant and n is the number of intervals, r is the convergence rate"
   ]
  },
  {
   "cell_type": "code",
   "execution_count": 43,
   "metadata": {},
   "outputs": [],
   "source": [
    "def adaptive_integration(f,a,b,eps = 1e-6,method = 'trapezoidal'):\n",
    "    '''\n",
    "    f is the integration function, a/b is the integration lower/upper boundary\n",
    "    eps is the error tolerance\n",
    "    method = rectangle or trapezoidal\n",
    "    '''\n",
    "    INTERVAL_MULT = 10\n",
    "    n = 10\n",
    "    n_array = []\n",
    "    result_array = []\n",
    "    condition = True\n",
    "    iter = 0\n",
    "    while condition:\n",
    "        if method == \"rectangle\":\n",
    "            result = rectangle_integration(f,a,b,n)\n",
    "        elif method == \"trapezoidal\":\n",
    "            result = trapezoidal_intergration(f,a,b,n)\n",
    "        else:\n",
    "            raise(\"Integration method : {} not allowed\".format(method))\n",
    "        n_array.append(n)\n",
    "        result_array.append(result)\n",
    "        iter += 1\n",
    "        if len(result_array) >= 2:\n",
    "            # if the condition is not satisified, continue iteration\n",
    "            condition = ~ (abs(result_array[-1] - result_array[-2]) <= eps)\n",
    "            n *= INTERVAL_MULT\n",
    "    return result_array[-1],abs(result_array[-1] - result_array[-2])"
   ]
  },
  {
   "cell_type": "code",
   "execution_count": 48,
   "metadata": {},
   "outputs": [],
   "source": [
    "    INTERVAL_MULT = 10\n",
    "    n = 10\n",
    "    n_array = []\n",
    "    result_array = []\n",
    "    condition = True\n",
    "    iter = 0"
   ]
  },
  {
   "cell_type": "code",
   "execution_count": 49,
   "metadata": {},
   "outputs": [],
   "source": [
    "while condition:\n",
    "        if method == \"rectangle\":\n",
    "            result = rectangle_integration(f,a,b,n)\n",
    "        elif method == \"trapezoidal\":\n",
    "            result = trapezoidal_intergration(f,a,b,n)\n",
    "        else:\n",
    "            raise(\"Integration method : {} not allowed\".format(method))\n",
    "        n_array.append(n)\n",
    "        result_array.append(result)\n",
    "        iter += 1\n",
    "        if len(result_array) >= 2:\n",
    "            # if the condition is not satisified, continue iteration\n",
    "            condition = ~ (abs(result_array[-1] - result_array[-2]) <= eps)\n",
    "            n *= INTERVAL_MULT"
   ]
  },
  {
   "cell_type": "code",
   "execution_count": 47,
   "metadata": {},
   "outputs": [],
   "source": [
    "f = lambda x:x\n",
    "a = 0\n",
    "b = 1\n",
    "eps = 1e-6\n",
    "method = 'trapezoidal'\n",
    "#adaptive_integration(f,0,1)"
   ]
  },
  {
   "cell_type": "code",
   "execution_count": 50,
   "metadata": {},
   "outputs": [
    {
     "ename": "IndexError",
     "evalue": "invalid index to scalar variable.",
     "output_type": "error",
     "traceback": [
      "\u001b[1;31m---------------------------------------------------------------------------\u001b[0m",
      "\u001b[1;31mIndexError\u001b[0m                                Traceback (most recent call last)",
      "\u001b[1;32m<ipython-input-50-5cf5cc5963d7>\u001b[0m in \u001b[0;36m<module>\u001b[1;34m\u001b[0m\n\u001b[1;32m----> 1\u001b[1;33m \u001b[0madaptive_integration\u001b[0m\u001b[1;33m(\u001b[0m\u001b[0mf\u001b[0m\u001b[1;33m,\u001b[0m\u001b[1;36m0\u001b[0m\u001b[1;33m,\u001b[0m\u001b[1;36m1\u001b[0m\u001b[1;33m)\u001b[0m\u001b[1;33m\u001b[0m\u001b[1;33m\u001b[0m\u001b[0m\n\u001b[0m",
      "\u001b[1;32m<ipython-input-43-48c938686aee>\u001b[0m in \u001b[0;36madaptive_integration\u001b[1;34m(f, a, b, eps, method)\u001b[0m\n\u001b[0;32m     25\u001b[0m             \u001b[0mcondition\u001b[0m \u001b[1;33m=\u001b[0m \u001b[1;33m~\u001b[0m \u001b[1;33m(\u001b[0m\u001b[0mabs\u001b[0m\u001b[1;33m(\u001b[0m\u001b[0mresult_array\u001b[0m\u001b[1;33m[\u001b[0m\u001b[1;33m-\u001b[0m\u001b[1;36m1\u001b[0m\u001b[1;33m]\u001b[0m \u001b[1;33m-\u001b[0m \u001b[0mresult_array\u001b[0m\u001b[1;33m[\u001b[0m\u001b[1;33m-\u001b[0m\u001b[1;36m2\u001b[0m\u001b[1;33m]\u001b[0m\u001b[1;33m)\u001b[0m \u001b[1;33m<=\u001b[0m \u001b[0meps\u001b[0m\u001b[1;33m)\u001b[0m\u001b[1;33m\u001b[0m\u001b[1;33m\u001b[0m\u001b[0m\n\u001b[0;32m     26\u001b[0m             \u001b[0mn\u001b[0m \u001b[1;33m*=\u001b[0m \u001b[0mINTERVAL_MULT\u001b[0m\u001b[1;33m\u001b[0m\u001b[1;33m\u001b[0m\u001b[0m\n\u001b[1;32m---> 27\u001b[1;33m     \u001b[1;32mreturn\u001b[0m \u001b[0mresult\u001b[0m\u001b[1;33m[\u001b[0m\u001b[1;33m-\u001b[0m\u001b[1;36m1\u001b[0m\u001b[1;33m]\u001b[0m\u001b[1;33m,\u001b[0m\u001b[0mabs\u001b[0m\u001b[1;33m(\u001b[0m\u001b[0mresult\u001b[0m\u001b[1;33m[\u001b[0m\u001b[1;33m-\u001b[0m\u001b[1;36m1\u001b[0m\u001b[1;33m]\u001b[0m \u001b[1;33m-\u001b[0m \u001b[0mresult\u001b[0m\u001b[1;33m[\u001b[0m\u001b[1;33m-\u001b[0m\u001b[1;36m2\u001b[0m\u001b[1;33m]\u001b[0m\u001b[1;33m)\u001b[0m\u001b[1;33m\u001b[0m\u001b[1;33m\u001b[0m\u001b[0m\n\u001b[0m",
      "\u001b[1;31mIndexError\u001b[0m: invalid index to scalar variable."
     ]
    }
   ],
   "source": [
    "adaptive_integration(f,0,1)"
   ]
  },
  {
   "cell_type": "code",
   "execution_count": null,
   "metadata": {},
   "outputs": [],
   "source": []
  }
 ],
 "metadata": {
  "interpreter": {
   "hash": "85b8542346bf68cc760c86a1d200b0672ece6e2c51cd657345e0f5a7bc12e1f8"
  },
  "kernelspec": {
   "display_name": "Python 3.7.6 64-bit ('base': conda)",
   "name": "python3"
  },
  "language_info": {
   "codemirror_mode": {
    "name": "ipython",
    "version": 3
   },
   "file_extension": ".py",
   "mimetype": "text/x-python",
   "name": "python",
   "nbconvert_exporter": "python",
   "pygments_lexer": "ipython3",
   "version": "3.7.6"
  },
  "orig_nbformat": 4
 },
 "nbformat": 4,
 "nbformat_minor": 2
}
