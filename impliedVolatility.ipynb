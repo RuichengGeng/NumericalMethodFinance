{
 "cells": [
  {
   "cell_type": "code",
   "execution_count": 1,
   "metadata": {},
   "outputs": [],
   "source": [
    "import numpy as np\n",
    "import scipy.stats as st"
   ]
  },
  {
   "cell_type": "markdown",
   "metadata": {},
   "source": [
    "# B-S Formual  \n",
    "We denote: v as option price, T as time to maturity, t as current time, s as stock price, r as risk free rate  \n",
    "The price of European call option is given by\n",
    "$$\n",
    "V_{c}(t,S_{t}) = S_{t} N(d_{1}(t,S_{t})) - \\exp{(-r(T-t))} K N(d_{2}(t,S_{t}))\n",
    "$$\n",
    "where \n",
    "$$\n",
    "d_{1}(t,S_{t}) = \\frac{1}{\\sigma \\sqrt{T-t}}(\\log{\\frac{S_{t}}{K}} + (r + \\frac{1}{2} \\sigma^2)(T-t))\n",
    "$$\n",
    "$$\n",
    "d_{2}(t,S_{t}) = d_{1}(t,S_{t}) - \\sigma\\sqrt{T-t}\n",
    "$$\n",
    "N is the cumulative distribution function for standard normal distribution"
   ]
  },
  {
   "cell_type": "markdown",
   "metadata": {},
   "source": [
    "Similarly, the price of European put is given by\n",
    "$$\n",
    "V_{p}(t,S_{t}) = \\exp{(-r(T-t))} K N(-d_{2}(t,S_{t})) - S_{t} N(-d_{1}(t,S_{t}))\n",
    "$$"
   ]
  },
  {
   "cell_type": "markdown",
   "metadata": {},
   "source": [
    "vega of call \n",
    "$$\n",
    "Vega = \\frac{\\partial V_{c}(t,S_{t})}{\\partial \\sigma} = S_{t} \\phi(d_{1}) \\sqrt{T-t}\n",
    "$$\n",
    "\n",
    "vega of put\n",
    "$$\n",
    "Vega = \\frac{\\partial V_{p}(t,S_{t})}{\\partial \\sigma} = \\exp{(-r(T-t))} K \\phi(d_{2}) \\sqrt{T-t}\n",
    "$$\n",
    "\n",
    "\n",
    "where $\\phi{}$ is the probability density function of normal distribution  \n",
    "when I was deriving vega of call/put, I also surprisingly found:\n",
    "\n",
    "$$\n",
    "S_{t}\\phi(d1) = k\\exp(-rt)\\phi(d2)\n",
    "$$\n"
   ]
  },
  {
   "cell_type": "code",
   "execution_count": 2,
   "metadata": {},
   "outputs": [],
   "source": [
    "def newton_solver(f,df,x,tol = 1e-6,max_loop = 1000,return_list = False):\n",
    "    root_trials = []\n",
    "    if abs(f(x)) <= tol:\n",
    "        return x\n",
    "    loop = 0\n",
    "    while abs(f(x))> tol and loop < max_loop:\n",
    "        if abs(df(x)) < tol:\n",
    "            print('The slope of function @ {} is 0'.format(x))\n",
    "            return None\n",
    "        x = x - float(f(x)/df(x))\n",
    "        root_trials.append(x)\n",
    "        loop += 1\n",
    "        print('{} trials, trial = {}'.format(loop,x))\n",
    "    \n",
    "    if loop >= max_loop:\n",
    "        print('No solution!')\n",
    "        return None\n",
    "    print('Get root after {} iterations'.format(loop))\n",
    "    if return_list:\n",
    "        return root_trials[-1],root_trials\n",
    "    else:          \n",
    "        return root_trials[-1]"
   ]
  },
  {
   "cell_type": "code",
   "execution_count": 3,
   "metadata": {},
   "outputs": [],
   "source": [
    "def dV_dsigma(S_0,K,sigma,tau,r):\n",
    "    #parameters and value of Vega\n",
    "    d2   = (np.log(S_0 / float(K)) + (r - 0.5 * np.power(sigma,2.0)) * tau) / float(sigma * np.sqrt(tau))\n",
    "    value = K * np.exp(-r * tau) * st.norm.pdf(d2) * np.sqrt(tau)\n",
    "    return value\n",
    "\n",
    "def BS_Call_Option_Price(CP,S_0,K,sigma,tau,r):\n",
    "    #Black-Scholes Call option price\n",
    "    d1    = (np.log(S_0 / float(K)) + (r + 0.5 * np.power(sigma,2.0)) * tau) / float(sigma * np.sqrt(tau))\n",
    "    d2    = d1 - sigma * np.sqrt(tau)\n",
    "    if str(CP).lower()==\"c\" or str(CP).lower()==\"1\":\n",
    "        value = st.norm.cdf(d1) * S_0 - st.norm.cdf(d2) * K * np.exp(-r * tau)\n",
    "    elif str(CP).lower()==\"p\" or str(CP).lower()==\"-1\":\n",
    "        value = st.norm.cdf(-d2) * K * np.exp(-r * tau) - st.norm.cdf(-d1)*S_0\n",
    "    return value"
   ]
  },
  {
   "cell_type": "code",
   "execution_count": 4,
   "metadata": {},
   "outputs": [],
   "source": [
    "def impliedVol_calculator(CP,S_0,K,tau,r,market_price,sigmaini = 0.5,):\n",
    "    optPrice = lambda sigma:BS_Call_Option_Price(CP,S_0,K,sigma,tau,r) ## option price wrt sigma\n",
    "    vega = lambda sigma:dV_dsigma(S_0,K,sigma,tau,r) # vega wrt sigma\n",
    "\n",
    "    fx = lambda sigma:optPrice(sigma) - market_price\n",
    "    dfx_dx = vega\n",
    "\n",
    "    result = newton_solver(fx,dfx_dx,sigmaini,tol = 1e-6,max_loop = 1000,return_list = False)\n",
    "    return result"
   ]
  },
  {
   "cell_type": "code",
   "execution_count": 5,
   "metadata": {},
   "outputs": [],
   "source": [
    "V_market = 2    # market call option price\n",
    "K        = 120  # strike\n",
    "tau      = 1    # time-to-maturity\n",
    "r        = 0.05 # interest rate\n",
    "S_0      = 100  # today's stock price\n",
    "sigmaInit    = 0.25  # Initial implied volatility\n",
    "CP       =\"c\" #C is call and P is put"
   ]
  },
  {
   "cell_type": "code",
   "execution_count": 7,
   "metadata": {},
   "outputs": [
    {
     "name": "stdout",
     "output_type": "stream",
     "text": [
      "1 trials, trial = 0.17953469237708541\n",
      "2 trials, trial = 0.1620128111187268\n",
      "3 trials, trial = 0.16148330309570028\n",
      "4 trials, trial = 0.16148272884207326\n",
      "Get root after 4 iterations\n",
      "Implied volatility for CallPrice= 2, strike K=120, \n",
      "      maturity T= 1, interest rate r= 0.05 and initial stock S_0=100 \n",
      "      equals to sigma_imp = 0.1614827\n",
      "Option Price for implied volatility of 0.16148272884207326 is equal to 2.0000000000206164\n"
     ]
    }
   ],
   "source": [
    "\n",
    "\n",
    "sigma_imp = impliedVol_calculator(CP,S_0,K,sigmaInit,tau,r,V_market)\n",
    "print('''Implied volatility for CallPrice= {}, strike K={}, \n",
    "      maturity T= {}, interest rate r= {} and initial stock S_0={} \n",
    "      equals to sigma_imp = {:.7f}'''.format(V_market,K,tau,r,S_0,sigma_imp))\n",
    "\n",
    "# Check! \n",
    "val = BS_Call_Option_Price(CP,S_0,K,sigma_imp,tau,r)\n",
    "print('Option Price for implied volatility of {0} is equal to {1}'.format(sigma_imp, val))"
   ]
  },
  {
   "cell_type": "markdown",
   "metadata": {},
   "source": [
    "# How to calculate volatility smile and volatility surface?\n",
    "- 1. when calculating volatility smile, we should use options with same maturity and different strikes\n",
    "- 2. when calcluating volatility surface, we are expected to see the following pic\n",
    "\n",
    "![image info]('pics/impliedVolatility.png')\n",
    "\n",
    "<img src=\"C:/Users/Ruich/Desktop/Recent/NumericalMethodFinance/pics/impliedVolatility.png\">"
   ]
  },
  {
   "cell_type": "markdown",
   "metadata": {},
   "source": []
  }
 ],
 "metadata": {
  "interpreter": {
   "hash": "85b8542346bf68cc760c86a1d200b0672ece6e2c51cd657345e0f5a7bc12e1f8"
  },
  "kernelspec": {
   "display_name": "Python 3.7.6 64-bit ('base': conda)",
   "language": "python",
   "name": "python3"
  },
  "language_info": {
   "codemirror_mode": {
    "name": "ipython",
    "version": 3
   },
   "file_extension": ".py",
   "mimetype": "text/x-python",
   "name": "python",
   "nbconvert_exporter": "python",
   "pygments_lexer": "ipython3",
   "version": "3.7.6"
  },
  "orig_nbformat": 4
 },
 "nbformat": 4,
 "nbformat_minor": 2
}
