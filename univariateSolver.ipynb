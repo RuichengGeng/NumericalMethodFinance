{
 "cells": [
  {
   "cell_type": "code",
   "execution_count": 1,
   "metadata": {},
   "outputs": [],
   "source": [
    "import numpy as np"
   ]
  },
  {
   "cell_type": "code",
   "execution_count": 2,
   "metadata": {},
   "outputs": [],
   "source": [
    "def bisection_solver(f,left,right,tol = 1e-6,max_iter = 1000,return_list = False):\n",
    "    root_trials = []\n",
    "    if f(left)*f(right) > 0 :\n",
    "        raise ValueError('No solution within given interval')\n",
    "    mid  = (left + right)/2\n",
    "    root_trials.append(mid)\n",
    "    loop = 0\n",
    "    while abs(f(mid)) > tol and loop < max_iter:\n",
    "        if f(left)*f(mid) > 0:\n",
    "            left = mid\n",
    "            #mid = right\n",
    "        else:\n",
    "            right = mid\n",
    "        loop += 1\n",
    "        mid  = (right + left)/2\n",
    "        root_trials.append(mid)\n",
    "        print('{} trials, trial = {}'.format(loop,mid))\n",
    "    if loop >= max_iter:\n",
    "        print('No solution!')\n",
    "        return None\n",
    "    print('Get root after {} iterations'.format(loop))\n",
    "    if return_list:\n",
    "        return root_trials[-1],root_trials\n",
    "    else:\n",
    "        return root_trials[-1]"
   ]
  },
  {
   "cell_type": "code",
   "execution_count": 3,
   "metadata": {},
   "outputs": [],
   "source": [
    "def newton_solver(f,df,x,tol = 1e-6,max_loop = 1000,return_list = False):\n",
    "    root_trials = []\n",
    "    if abs(f(x)) <= tol:\n",
    "        return x\n",
    "    loop = 0\n",
    "    while abs(f(x))> tol and loop < max_loop:\n",
    "        if abs(df(x)) < tol:\n",
    "            print('The slope of function @ {} is 0'.format(x))\n",
    "            return None\n",
    "        x = x - float(f(x)/df(x))\n",
    "        root_trials.append(x)\n",
    "        loop += 1\n",
    "        print('{} trials, trial = {}'.format(loop,x))\n",
    "    \n",
    "    if loop >= max_loop:\n",
    "        print('No solution!')\n",
    "        return None\n",
    "    print('Get root after {} iterations'.format(loop))\n",
    "    if return_list:\n",
    "        return root_trials[-1],root_trials\n",
    "    else:\n",
    "        return root_trials[-1]"
   ]
  },
  {
   "cell_type": "code",
   "execution_count": 4,
   "metadata": {},
   "outputs": [],
   "source": [
    "def secant_solver(f,x0,x1,tol = 1e-6,max_loop = 1000,return_list = False):\n",
    "    root_trials = []\n",
    "    if abs(f(x1)) <= tol:\n",
    "        return x1\n",
    "    loop = 0\n",
    "    while abs(f(x1)) > tol and loop <= max_loop:\n",
    "        if abs((f(x1) - f(x0))/(x1-x0)) < 1e-6:\n",
    "            print('The slope of function @ {} is 0'.format(x1))\n",
    "            return None\n",
    "        temp = x1\n",
    "        x1 =  x1 - f(x1)*(x1 - x0)/(f(x1) - f(x0))\n",
    "        x0 = temp\n",
    "        root_trials.append(x1)\n",
    "        loop += 1\n",
    "        print('{} trials, trial = {}'.format(loop,x1))\n",
    "    if loop > max_loop:\n",
    "        print('No solution!')\n",
    "        return None\n",
    "    print('Get root after {} iterations'.format(loop))\n",
    "    if return_list:\n",
    "        return root_trials[-1],root_trials\n",
    "    else:\n",
    "        return root_trials[-1]"
   ]
  },
  {
   "cell_type": "code",
   "execution_count": 12,
   "metadata": {},
   "outputs": [
    {
     "name": "stdout",
     "output_type": "stream",
     "text": [
      "1 trials, trial = 0.75\n",
      "2 trials, trial = 0.875\n",
      "3 trials, trial = 0.9375\n",
      "4 trials, trial = 0.96875\n",
      "5 trials, trial = 0.984375\n",
      "6 trials, trial = 0.9921875\n",
      "7 trials, trial = 0.99609375\n",
      "8 trials, trial = 0.998046875\n",
      "9 trials, trial = 0.9990234375\n",
      "10 trials, trial = 0.99951171875\n",
      "11 trials, trial = 0.999755859375\n",
      "12 trials, trial = 0.9998779296875\n",
      "13 trials, trial = 0.99993896484375\n",
      "14 trials, trial = 0.999969482421875\n",
      "15 trials, trial = 0.9999847412109375\n",
      "16 trials, trial = 0.9999923706054688\n",
      "17 trials, trial = 0.9999961853027344\n",
      "18 trials, trial = 0.9999980926513672\n",
      "19 trials, trial = 0.9999990463256836\n",
      "20 trials, trial = 0.9999995231628418\n",
      "Get root after 20 iterations\n"
     ]
    },
    {
     "data": {
      "text/plain": [
       "0.9999995231628418"
      ]
     },
     "execution_count": 12,
     "metadata": {},
     "output_type": "execute_result"
    }
   ],
   "source": [
    "f = lambda x:x**2-1\n",
    "bisection_solver(f,0,1,tol = 1e-6,max_iter = 1000,return_list = False)"
   ]
  },
  {
   "cell_type": "code",
   "execution_count": 15,
   "metadata": {},
   "outputs": [
    {
     "name": "stdout",
     "output_type": "stream",
     "text": [
      "1 trials, trial = 1.25\n",
      "2 trials, trial = 1.025\n",
      "3 trials, trial = 1.0003048780487804\n",
      "4 trials, trial = 1.0000000464611474\n",
      "Get root after 4 iterations\n"
     ]
    },
    {
     "data": {
      "text/plain": [
       "1.0000000464611474"
      ]
     },
     "execution_count": 15,
     "metadata": {},
     "output_type": "execute_result"
    }
   ],
   "source": [
    "df = lambda x:2*x\n",
    "newton_solver(f,df,2,tol = 1e-6,max_loop = 1000,return_list = False)"
   ]
  },
  {
   "cell_type": "code",
   "execution_count": 17,
   "metadata": {},
   "outputs": [
    {
     "name": "stdout",
     "output_type": "stream",
     "text": [
      "1 trials, trial = 1.1428571428571428\n",
      "2 trials, trial = 1.027027027027027\n",
      "3 trials, trial = 1.001779359430605\n",
      "4 trials, trial = 1.0000237039846398\n",
      "5 trials, trial = 1.000000021069959\n",
      "Get root after 5 iterations\n"
     ]
    },
    {
     "data": {
      "text/plain": [
       "1.000000021069959"
      ]
     },
     "execution_count": 17,
     "metadata": {},
     "output_type": "execute_result"
    }
   ],
   "source": [
    "secant_solver(f,2,2-0.5,tol = 1e-6,max_loop = 1000,return_list = False)"
   ]
  }
 ],
 "metadata": {
  "interpreter": {
   "hash": "85b8542346bf68cc760c86a1d200b0672ece6e2c51cd657345e0f5a7bc12e1f8"
  },
  "kernelspec": {
   "display_name": "Python 3.7.6 64-bit ('base': conda)",
   "name": "python3"
  },
  "language_info": {
   "codemirror_mode": {
    "name": "ipython",
    "version": 3
   },
   "file_extension": ".py",
   "mimetype": "text/x-python",
   "name": "python",
   "nbconvert_exporter": "python",
   "pygments_lexer": "ipython3",
   "version": "3.7.6"
  },
  "orig_nbformat": 4
 },
 "nbformat": 4,
 "nbformat_minor": 2
}
